{
 "cells": [
  {
   "cell_type": "markdown",
   "source": [
    "该份代码主要是完成DDPM学习Celeba任务，不是SRDiff的内容"
   ],
   "metadata": {
    "collapsed": false
   },
   "id": "bec8514c676bf397"
  },
  {
   "cell_type": "code",
   "outputs": [],
   "source": [
    "import os\n",
    "from model.t1ds import Task1Dataset\n",
    "from torch.utils.data import DataLoader,random_split\n",
    "import glob\n",
    "from model.Unet import Unet\n",
    "from model.Diffusion import Diffusion\n",
    "import torch"
   ],
   "metadata": {
    "collapsed": false,
    "ExecuteTime": {
     "end_time": "2024-10-13T08:26:38.682358Z",
     "start_time": "2024-10-13T08:26:38.678205Z"
    }
   },
   "id": "d9381451ded8ab0e",
   "execution_count": 5
  },
  {
   "cell_type": "code",
   "outputs": [
    {
     "name": "stdout",
     "output_type": "stream",
     "text": [
      "['data/CelebA_nocrop/images\\\\000001.jpg', 'data/CelebA_nocrop/images\\\\000002.jpg', 'data/CelebA_nocrop/images\\\\000003.jpg', 'data/CelebA_nocrop/images\\\\000004.jpg', 'data/CelebA_nocrop/images\\\\000005.jpg', 'data/CelebA_nocrop/images\\\\000006.jpg', 'data/CelebA_nocrop/images\\\\000007.jpg', 'data/CelebA_nocrop/images\\\\000008.jpg', 'data/CelebA_nocrop/images\\\\000009.jpg', 'data/CelebA_nocrop/images\\\\000010.jpg']\n"
     ]
    }
   ],
   "source": [
    "filepath = 'data/CelebA_nocrop/images'\n",
    "imgs = glob.glob(filepath + '/*.jpg')\n",
    "print(imgs[0:10])\n",
    "# Celeba数据集解压到filepath下面"
   ],
   "metadata": {
    "collapsed": false,
    "ExecuteTime": {
     "end_time": "2024-10-13T08:26:39.602966Z",
     "start_time": "2024-10-13T08:26:38.703323Z"
    }
   },
   "id": "4e5d59590b9b9dee",
   "execution_count": 6
  },
  {
   "cell_type": "code",
   "outputs": [
    {
     "name": "stdout",
     "output_type": "stream",
     "text": [
      "cuda:0\n"
     ]
    }
   ],
   "source": [
    "dataset = Task1Dataset(imgs)\n",
    "train_size = int(0.9*len(dataset))\n",
    "val_size = len(dataset) - train_size \n",
    "train_set,val_set = random_split(dataset,[train_size,val_size])\n",
    "device = torch.device(\"cuda:0\" if torch.cuda.is_available() else 'cpu')\n",
    "print(device)"
   ],
   "metadata": {
    "collapsed": false,
    "ExecuteTime": {
     "end_time": "2024-10-13T08:26:39.620121Z",
     "start_time": "2024-10-13T08:26:39.604988Z"
    }
   },
   "id": "1ba33d9a326bf48d",
   "execution_count": 7
  },
  {
   "cell_type": "code",
   "outputs": [
    {
     "name": "stdout",
     "output_type": "stream",
     "text": [
      "2\n",
      "1\n",
      "2\n",
      "1\n"
     ]
    },
    {
     "name": "stderr",
     "output_type": "stream",
     "text": [
      "D:\\pycharm\\benchwork\\2024\\10\\SRDiff-main\\MySRDiff\\utils\\Trainer.py:81: FutureWarning: You are using `torch.load` with `weights_only=False` (the current default value), which uses the default pickle module implicitly. It is possible to construct malicious pickle data which will execute arbitrary code during unpickling (See https://github.com/pytorch/pytorch/blob/main/SECURITY.md#untrusted-models for more details). In a future release, the default value for `weights_only` will be flipped to `True`. This limits the functions that could be executed during unpickling. Arbitrary objects will no longer be allowed to be loaded via this mode unless they are explicitly allowlisted by the user via `torch.serialization.add_safe_globals`. We recommend you start setting `weights_only=True` for any use case where you don't have full control of the loaded file. Please open an issue on GitHub for any issues related to this experimental feature.\n",
      "  checkpoint = torch.load(self.checkpoint_path)\n"
     ]
    },
    {
     "name": "stdout",
     "output_type": "stream",
     "text": [
      "Epoch 2, Batch 0, Loss: 0.14675837755203247\n",
      "Epoch 2, Batch 20, Loss: 0.14680685102939606\n",
      "Epoch 2, Batch 40, Loss: 0.04882032796740532\n",
      "Epoch 2, Batch 60, Loss: 0.07815292477607727\n",
      "Epoch 2, Batch 80, Loss: 0.06826533377170563\n",
      "Epoch 2, Batch 100, Loss: 0.07247833162546158\n",
      "Epoch 2, Batch 120, Loss: 0.08353042602539062\n",
      "Epoch 2, Batch 140, Loss: 0.04283055663108826\n",
      "Epoch 2, Batch 160, Loss: 0.05253904312849045\n",
      "Epoch 2, Batch 180, Loss: 0.027028104290366173\n",
      "Epoch 2, Batch 200, Loss: 0.04823468253016472\n",
      "Epoch 2, Batch 220, Loss: 0.039133720099925995\n",
      "Epoch 2, Batch 240, Loss: 0.05746008828282356\n",
      "Epoch 2, Batch 260, Loss: 0.03893493115901947\n",
      "Epoch 2, Batch 280, Loss: 0.045876644551754\n",
      "Epoch 2, Batch 300, Loss: 0.05381673201918602\n",
      "Epoch 2, Batch 320, Loss: 0.028589364141225815\n",
      "Epoch 2, Batch 340, Loss: 0.03810965269804001\n",
      "Epoch 2, Batch 360, Loss: 0.0668075680732727\n",
      "Epoch 2, Batch 380, Loss: 0.03684965521097183\n",
      "Epoch 2, Batch 400, Loss: 0.02440200001001358\n",
      "Epoch 2, Batch 420, Loss: 0.042541299015283585\n",
      "Epoch 2, Batch 440, Loss: 0.05693436414003372\n",
      "Epoch 2, Batch 460, Loss: 0.031355518847703934\n",
      "Epoch 2, Batch 480, Loss: 0.021766195073723793\n",
      "Epoch 2, Batch 500, Loss: 0.03755549341440201\n",
      "Epoch 2, Batch 520, Loss: 0.040160346776247025\n",
      "Epoch 2, Batch 540, Loss: 0.03705666959285736\n",
      "Epoch 2, Batch 560, Loss: 0.03355786204338074\n",
      "Epoch 2, Batch 580, Loss: 0.039866480976343155\n",
      "Epoch 2, Batch 600, Loss: 0.05154259502887726\n",
      "Epoch 2, Batch 620, Loss: 0.030561715364456177\n",
      "Epoch 2, Batch 640, Loss: 0.03047841414809227\n",
      "Epoch 2, Batch 660, Loss: 0.02426263876259327\n",
      "Epoch 2, Batch 680, Loss: 0.030572859570384026\n",
      "Epoch 2, Batch 700, Loss: 0.02866700291633606\n",
      "Epoch 2, Batch 720, Loss: 0.03483056649565697\n",
      "Epoch 2, Batch 740, Loss: 0.021600481122732162\n",
      "Epoch 2, Batch 760, Loss: 0.0421576201915741\n",
      "Epoch 2, Batch 780, Loss: 0.02521035261452198\n",
      "Epoch 2, Batch 800, Loss: 0.0175644438713789\n",
      "Epoch 2, Batch 820, Loss: 0.018191372975707054\n",
      "Epoch 2, Batch 840, Loss: 0.019285304471850395\n",
      "Epoch 2, Batch 860, Loss: 0.03254144638776779\n",
      "Epoch 2, Batch 880, Loss: 0.03367331996560097\n",
      "Epoch 2, Batch 900, Loss: 0.02095537632703781\n",
      "Epoch 2, Batch 920, Loss: 0.03562910482287407\n",
      "Epoch 2, Batch 940, Loss: 0.024278050288558006\n",
      "Epoch 2, Batch 960, Loss: 0.01621134765446186\n",
      "Epoch 2, Batch 980, Loss: 0.03981785476207733\n",
      "Epoch 2, Batch 1000, Loss: 0.05352131649851799\n",
      "Epoch 2, Batch 1020, Loss: 0.027852782979607582\n",
      "Epoch 2, Batch 1040, Loss: 0.022761354222893715\n",
      "Epoch 2, Batch 1060, Loss: 0.031656645238399506\n",
      "Epoch 2, Batch 1080, Loss: 0.01954277791082859\n",
      "Epoch 2, Batch 1100, Loss: 0.039343517273664474\n",
      "Epoch 2, Batch 1120, Loss: 0.02495182491838932\n",
      "Epoch 2, Batch 1140, Loss: 0.03063398413360119\n",
      "Epoch 2, Batch 1160, Loss: 0.021442314609885216\n",
      "Epoch 2, Batch 1180, Loss: 0.03240649029612541\n",
      "Epoch 2, Batch 1200, Loss: 0.03299148753285408\n",
      "Epoch 2, Batch 1220, Loss: 0.03530397638678551\n",
      "Epoch 2, Batch 1240, Loss: 0.03763250261545181\n"
     ]
    }
   ],
   "source": [
    "from utils.Trainer import Trainer\n",
    "unet = Unet()\n",
    "model = Diffusion(eps_model=unet,n_steps=500,device=device)\n",
    "trainer = Trainer(train_dataset=train_set,val_dataset=val_set,batch_size=32,model=model,device=device)\n",
    "trainer.train()"
   ],
   "metadata": {
    "collapsed": false,
    "is_executing": true,
    "ExecuteTime": {
     "start_time": "2024-10-13T08:26:39.621126Z"
    }
   },
   "id": "7f720038cdc12042",
   "execution_count": null
  },
  {
   "cell_type": "code",
   "outputs": [],
   "source": [],
   "metadata": {
    "collapsed": false,
    "is_executing": true
   },
   "id": "769ed38215530d94",
   "execution_count": null
  },
  {
   "cell_type": "code",
   "outputs": [],
   "source": [],
   "metadata": {
    "collapsed": false,
    "is_executing": true
   },
   "id": "b5aa6936e86de1b1"
  }
 ],
 "metadata": {
  "kernelspec": {
   "display_name": "Python 3",
   "language": "python",
   "name": "python3"
  },
  "language_info": {
   "codemirror_mode": {
    "name": "ipython",
    "version": 2
   },
   "file_extension": ".py",
   "mimetype": "text/x-python",
   "name": "python",
   "nbconvert_exporter": "python",
   "pygments_lexer": "ipython2",
   "version": "2.7.6"
  }
 },
 "nbformat": 4,
 "nbformat_minor": 5
}
